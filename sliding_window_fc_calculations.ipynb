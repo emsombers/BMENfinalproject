{
 "cells": [
  {
   "cell_type": "markdown",
   "metadata": {},
   "source": [
    "# Functional Connectivity Sliding Window Preprocessing"
   ]
  },
  {
   "cell_type": "markdown",
   "metadata": {},
   "source": [
    "We are going to make \"chunks\" of anxiety per subject that we can then align to fMRI data and calculate the functional connectivity. In order to standardize our feature sizes we will make window lengths of fMRI_TR, give a sliding stride, and then calculate mean anixety for the label for each chunk. We will prepare them in two different ways, one that can be used for regression (predicting continuous anxiety values) and one for classification (high vs low anxiety). Note these anxiety values are already z scored. The values from the reviewers are from 0 to 100 and then consensus annotations are calculated from the z scores. We are going to add a minmaxscaled value to each of the CSVs because that is better for some neural networks. Likely regression is best to use the continuous values and then minmax is good for binning for classification. "
   ]
  },
  {
   "cell_type": "code",
   "execution_count": 42,
   "metadata": {},
   "outputs": [
    {
     "name": "stdout",
     "output_type": "stream",
     "text": [
      "Updated: sub-S25_Chatter_anxiety_aligned.csv\n",
      "Updated: sub-S28_LessonLearned_anxiety_aligned.csv\n",
      "Updated: sub-S20_Chatter_anxiety_aligned.csv\n",
      "Updated: sub-S09_Chatter_anxiety_aligned.csv\n",
      "Updated: sub-S25_LessonLearned_anxiety_aligned.csv\n",
      "Updated: sub-S11_LessonLearned_anxiety_aligned.csv\n",
      "Updated: sub-S02_LessonLearned_anxiety_aligned.csv\n",
      "Updated: sub-S10_Chatter_anxiety_aligned.csv\n",
      "Updated: sub-S13_LessonLearned_anxiety_aligned.csv\n",
      "Updated: sub-S27_LessonLearned_anxiety_aligned.csv\n",
      "Updated: sub-S06_Chatter_anxiety_aligned.csv\n",
      "Updated: sub-S15_Chatter_anxiety_aligned.csv\n",
      "Updated: sub-S03_Chatter_anxiety_aligned.csv\n",
      "Updated: sub-S21_Chatter_anxiety_aligned.csv\n",
      "Updated: sub-S08_Chatter_anxiety_aligned.csv\n",
      "Updated: sub-S29_LessonLearned_anxiety_aligned.csv\n",
      "Updated: sub-S24_LessonLearned_anxiety_aligned.csv\n",
      "Updated: sub-S24_Chatter_anxiety_aligned.csv\n",
      "Updated: sub-S01_LessonLearned_anxiety_aligned.csv\n",
      "Updated: sub-S32_Chatter_anxiety_aligned.csv\n",
      "Updated: sub-S10_LessonLearned_anxiety_aligned.csv\n",
      "Updated: sub-S14_Chatter_anxiety_aligned.csv\n",
      "Updated: sub-S03_LessonLearned_anxiety_aligned.csv\n",
      "Updated: sub-S02_Chatter_anxiety_aligned.csv\n",
      "Updated: sub-S26_LessonLearned_anxiety_aligned.csv\n",
      "Updated: sub-S11_Chatter_anxiety_aligned.csv\n",
      "Updated: sub-S07_Chatter_anxiety_aligned.csv\n",
      "Updated: sub-S08_LessonLearned_anxiety_aligned.csv\n",
      "Updated: sub-S19_LessonLearned_anxiety_aligned.csv\n",
      "Updated: sub-S04_Chatter_anxiety_aligned.csv\n",
      "Updated: sub-S17_Chatter_anxiety_aligned.csv\n",
      "Updated: sub-S05_LessonLearned_anxiety_aligned.csv\n",
      "Updated: sub-S14_LessonLearned_anxiety_aligned.csv\n",
      "Updated: sub-S01_Chatter_anxiety_aligned.csv\n",
      "Updated: sub-S20_LessonLearned_anxiety_aligned.csv\n",
      "Updated: sub-S28_Chatter_anxiety_aligned.csv\n",
      "Updated: sub-S31_LessonLearned_anxiety_aligned.csv\n",
      "Updated: sub-S22_LessonLearned_anxiety_aligned.csv\n",
      "Updated: sub-S27_Chatter_anxiety_aligned.csv\n",
      "Updated: sub-S16_LessonLearned_anxiety_aligned.csv\n",
      "Updated: sub-S07_LessonLearned_anxiety_aligned.csv\n",
      "Updated: sub-S22_Chatter_anxiety_aligned.csv\n",
      "Updated: sub-S16_Chatter_anxiety_aligned.csv\n",
      "Updated: sub-S29_Chatter_anxiety_aligned.csv\n",
      "Updated: sub-S09_LessonLearned_anxiety_aligned.csv\n",
      "Updated: sub-S15_LessonLearned_anxiety_aligned.csv\n",
      "Updated: sub-S04_LessonLearned_anxiety_aligned.csv\n",
      "Updated: sub-S13_Chatter_anxiety_aligned.csv\n",
      "Updated: sub-S30_LessonLearned_anxiety_aligned.csv\n",
      "Updated: sub-S21_LessonLearned_anxiety_aligned.csv\n",
      "Updated: sub-S05_Chatter_anxiety_aligned.csv\n",
      "Updated: sub-S23_Chatter_anxiety_aligned.csv\n",
      "Updated: sub-S23_LessonLearned_anxiety_aligned.csv\n",
      "Updated: sub-S32_LessonLearned_anxiety_aligned.csv\n",
      "Updated: sub-S06_LessonLearned_anxiety_aligned.csv\n",
      "Updated: sub-S17_LessonLearned_anxiety_aligned.csv\n",
      "Updated: sub-S26_Chatter_anxiety_aligned.csv\n",
      "Updated: sub-S19_Chatter_anxiety_aligned.csv\n",
      "Updated: sub-S30_Chatter_anxiety_aligned.csv\n"
     ]
    }
   ],
   "source": [
    "# code to add the minmaxscaler values \n",
    "import os\n",
    "import pandas as pd\n",
    "from sklearn.preprocessing import MinMaxScaler\n",
    "\n",
    "anxiety_dir = \"anxiety_aligned_csv\"\n",
    "\n",
    "for filename in os.listdir(anxiety_dir):\n",
    "    if filename.endswith(\".csv\"):\n",
    "        filepath = os.path.join(anxiety_dir, filename)\n",
    "\n",
    "        df = pd.read_csv(filepath)\n",
    "\n",
    "        anxiety_col = df.columns[2]\n",
    "\n",
    "        scaler = MinMaxScaler()\n",
    "        df[\"scaled_anxiety\"] = scaler.fit_transform(df[[anxiety_col]])\n",
    "\n",
    "        df.to_csv(filepath, index=False)\n",
    "        print(f\"Updated: {filename}\")"
   ]
  },
  {
   "cell_type": "markdown",
   "metadata": {},
   "source": [
    "# Create the sliding windows "
   ]
  },
  {
   "cell_type": "markdown",
   "metadata": {},
   "source": [
    "We are going to create CSVs for each subject that says when the window starts and what the mean z scored anxiety is as well as the binned anxiety level. We will do it based on mean and median. "
   ]
  },
  {
   "cell_type": "code",
   "execution_count": 2,
   "metadata": {},
   "outputs": [
    {
     "ename": "KeyError",
     "evalue": "0",
     "output_type": "error",
     "traceback": [
      "\u001b[0;31m---------------------------------------------------------------------------\u001b[0m",
      "\u001b[0;31mKeyError\u001b[0m                                  Traceback (most recent call last)",
      "File \u001b[0;32m~/Library/Python/3.9/lib/python/site-packages/pandas/core/indexes/base.py:3805\u001b[0m, in \u001b[0;36mIndex.get_loc\u001b[0;34m(self, key)\u001b[0m\n\u001b[1;32m   3804\u001b[0m \u001b[38;5;28;01mtry\u001b[39;00m:\n\u001b[0;32m-> 3805\u001b[0m     \u001b[38;5;28;01mreturn\u001b[39;00m \u001b[38;5;28;43mself\u001b[39;49m\u001b[38;5;241;43m.\u001b[39;49m\u001b[43m_engine\u001b[49m\u001b[38;5;241;43m.\u001b[39;49m\u001b[43mget_loc\u001b[49m\u001b[43m(\u001b[49m\u001b[43mcasted_key\u001b[49m\u001b[43m)\u001b[49m\n\u001b[1;32m   3806\u001b[0m \u001b[38;5;28;01mexcept\u001b[39;00m \u001b[38;5;167;01mKeyError\u001b[39;00m \u001b[38;5;28;01mas\u001b[39;00m err:\n",
      "File \u001b[0;32mindex.pyx:167\u001b[0m, in \u001b[0;36mpandas._libs.index.IndexEngine.get_loc\u001b[0;34m()\u001b[0m\n",
      "File \u001b[0;32mindex.pyx:196\u001b[0m, in \u001b[0;36mpandas._libs.index.IndexEngine.get_loc\u001b[0;34m()\u001b[0m\n",
      "File \u001b[0;32mpandas/_libs/hashtable_class_helper.pxi:7081\u001b[0m, in \u001b[0;36mpandas._libs.hashtable.PyObjectHashTable.get_item\u001b[0;34m()\u001b[0m\n",
      "File \u001b[0;32mpandas/_libs/hashtable_class_helper.pxi:7089\u001b[0m, in \u001b[0;36mpandas._libs.hashtable.PyObjectHashTable.get_item\u001b[0;34m()\u001b[0m\n",
      "\u001b[0;31mKeyError\u001b[0m: 0",
      "\nThe above exception was the direct cause of the following exception:\n",
      "\u001b[0;31mKeyError\u001b[0m                                  Traceback (most recent call last)",
      "Cell \u001b[0;32mIn[2], line 21\u001b[0m\n\u001b[1;32m     18\u001b[0m     \u001b[38;5;28;01mcontinue\u001b[39;00m\n\u001b[1;32m     20\u001b[0m output_path \u001b[38;5;241m=\u001b[39m os\u001b[38;5;241m.\u001b[39mpath\u001b[38;5;241m.\u001b[39mjoin(output_dir, \u001b[38;5;124mf\u001b[39m\u001b[38;5;124m\"\u001b[39m\u001b[38;5;132;01m{\u001b[39;00msubj_id\u001b[38;5;132;01m}\u001b[39;00m\u001b[38;5;124m_anxiety_windows.csv\u001b[39m\u001b[38;5;124m\"\u001b[39m)\n\u001b[0;32m---> 21\u001b[0m \u001b[43mcreate_windows\u001b[49m\u001b[43m(\u001b[49m\n\u001b[1;32m     22\u001b[0m \u001b[43m    \u001b[49m\u001b[43manxiety_csv_path\u001b[49m\u001b[38;5;241;43m=\u001b[39;49m\u001b[43minput_path\u001b[49m\u001b[43m,\u001b[49m\n\u001b[1;32m     23\u001b[0m \u001b[43m    \u001b[49m\u001b[43moutput_csv_path\u001b[49m\u001b[38;5;241;43m=\u001b[39;49m\u001b[43moutput_path\u001b[49m\u001b[43m,\u001b[49m\n\u001b[1;32m     24\u001b[0m \u001b[43m    \u001b[49m\u001b[43mwindow_size\u001b[49m\u001b[38;5;241;43m=\u001b[39;49m\u001b[43mwindow_size\u001b[49m\u001b[43m,\u001b[49m\n\u001b[1;32m     25\u001b[0m \u001b[43m    \u001b[49m\u001b[43mstep_size\u001b[49m\u001b[38;5;241;43m=\u001b[39;49m\u001b[43mstep_size\u001b[49m\n\u001b[1;32m     26\u001b[0m \u001b[43m\u001b[49m\u001b[43m)\u001b[49m\n",
      "File \u001b[0;32m~/BMENfinalproject/utils/sliding_windows.py:10\u001b[0m, in \u001b[0;36mcreate_windows\u001b[0;34m(anxiety_csv_path, output_csv_path, window_size, step_size)\u001b[0m\n\u001b[1;32m      8\u001b[0m anxiety_z \u001b[38;5;241m=\u001b[39m df[\u001b[38;5;124m\"\u001b[39m\u001b[38;5;124manxiety\u001b[39m\u001b[38;5;124m\"\u001b[39m]\u001b[38;5;241m.\u001b[39mvalues\n\u001b[1;32m      9\u001b[0m anxiety_scaled \u001b[38;5;241m=\u001b[39m df[\u001b[38;5;124m\"\u001b[39m\u001b[38;5;124mscaled_anxiety\u001b[39m\u001b[38;5;124m\"\u001b[39m]\u001b[38;5;241m.\u001b[39mvalues\n\u001b[0;32m---> 10\u001b[0m fmri_tr \u001b[38;5;241m=\u001b[39m \u001b[43mdf\u001b[49m\u001b[43m[\u001b[49m\u001b[38;5;241;43m0\u001b[39;49m\u001b[43m]\u001b[49m\u001b[38;5;241m.\u001b[39mvalues\n\u001b[1;32m     12\u001b[0m rows \u001b[38;5;241m=\u001b[39m []\n\u001b[1;32m     13\u001b[0m first_valid \u001b[38;5;241m=\u001b[39m np\u001b[38;5;241m.\u001b[39mwhere(\u001b[38;5;241m~\u001b[39mnp\u001b[38;5;241m.\u001b[39misnan(anxiety_z))[\u001b[38;5;241m0\u001b[39m][\u001b[38;5;241m0\u001b[39m]\n",
      "File \u001b[0;32m~/Library/Python/3.9/lib/python/site-packages/pandas/core/frame.py:4102\u001b[0m, in \u001b[0;36mDataFrame.__getitem__\u001b[0;34m(self, key)\u001b[0m\n\u001b[1;32m   4100\u001b[0m \u001b[38;5;28;01mif\u001b[39;00m \u001b[38;5;28mself\u001b[39m\u001b[38;5;241m.\u001b[39mcolumns\u001b[38;5;241m.\u001b[39mnlevels \u001b[38;5;241m>\u001b[39m \u001b[38;5;241m1\u001b[39m:\n\u001b[1;32m   4101\u001b[0m     \u001b[38;5;28;01mreturn\u001b[39;00m \u001b[38;5;28mself\u001b[39m\u001b[38;5;241m.\u001b[39m_getitem_multilevel(key)\n\u001b[0;32m-> 4102\u001b[0m indexer \u001b[38;5;241m=\u001b[39m \u001b[38;5;28;43mself\u001b[39;49m\u001b[38;5;241;43m.\u001b[39;49m\u001b[43mcolumns\u001b[49m\u001b[38;5;241;43m.\u001b[39;49m\u001b[43mget_loc\u001b[49m\u001b[43m(\u001b[49m\u001b[43mkey\u001b[49m\u001b[43m)\u001b[49m\n\u001b[1;32m   4103\u001b[0m \u001b[38;5;28;01mif\u001b[39;00m is_integer(indexer):\n\u001b[1;32m   4104\u001b[0m     indexer \u001b[38;5;241m=\u001b[39m [indexer]\n",
      "File \u001b[0;32m~/Library/Python/3.9/lib/python/site-packages/pandas/core/indexes/base.py:3812\u001b[0m, in \u001b[0;36mIndex.get_loc\u001b[0;34m(self, key)\u001b[0m\n\u001b[1;32m   3807\u001b[0m     \u001b[38;5;28;01mif\u001b[39;00m \u001b[38;5;28misinstance\u001b[39m(casted_key, \u001b[38;5;28mslice\u001b[39m) \u001b[38;5;129;01mor\u001b[39;00m (\n\u001b[1;32m   3808\u001b[0m         \u001b[38;5;28misinstance\u001b[39m(casted_key, abc\u001b[38;5;241m.\u001b[39mIterable)\n\u001b[1;32m   3809\u001b[0m         \u001b[38;5;129;01mand\u001b[39;00m \u001b[38;5;28many\u001b[39m(\u001b[38;5;28misinstance\u001b[39m(x, \u001b[38;5;28mslice\u001b[39m) \u001b[38;5;28;01mfor\u001b[39;00m x \u001b[38;5;129;01min\u001b[39;00m casted_key)\n\u001b[1;32m   3810\u001b[0m     ):\n\u001b[1;32m   3811\u001b[0m         \u001b[38;5;28;01mraise\u001b[39;00m InvalidIndexError(key)\n\u001b[0;32m-> 3812\u001b[0m     \u001b[38;5;28;01mraise\u001b[39;00m \u001b[38;5;167;01mKeyError\u001b[39;00m(key) \u001b[38;5;28;01mfrom\u001b[39;00m \u001b[38;5;21;01merr\u001b[39;00m\n\u001b[1;32m   3813\u001b[0m \u001b[38;5;28;01mexcept\u001b[39;00m \u001b[38;5;167;01mTypeError\u001b[39;00m:\n\u001b[1;32m   3814\u001b[0m     \u001b[38;5;66;03m# If we have a listlike key, _check_indexing_error will raise\u001b[39;00m\n\u001b[1;32m   3815\u001b[0m     \u001b[38;5;66;03m#  InvalidIndexError. Otherwise we fall through and re-raise\u001b[39;00m\n\u001b[1;32m   3816\u001b[0m     \u001b[38;5;66;03m#  the TypeError.\u001b[39;00m\n\u001b[1;32m   3817\u001b[0m     \u001b[38;5;28mself\u001b[39m\u001b[38;5;241m.\u001b[39m_check_indexing_error(key)\n",
      "\u001b[0;31mKeyError\u001b[0m: 0"
     ]
    }
   ],
   "source": [
    "from utils.sliding_windows import create_windows \n",
    "import os\n",
    "\n",
    "window_size = 30\n",
    "step_size = 5 \n",
    "\n",
    "anxiety_dir = \"anxiety_aligned_csv\"\n",
    "output_dir = \"LessonLearned_sliding_windows_csv\"\n",
    "\n",
    "\n",
    "for subj_num in range(1, 33):\n",
    "    subj_id = f\"sub-S{subj_num:02d}\"  # ensures sub-S01, sub-S02, ..., sub-S32\n",
    "    input_file = f\"{subj_id}_LessonLearned_anxiety_aligned.csv\"\n",
    "    input_path = os.path.join(anxiety_dir, input_file)\n",
    "\n",
    "    if not os.path.exists(input_path):\n",
    "        print(f\"Skipping {subj_id} — no file found.\")\n",
    "        continue\n",
    "\n",
    "    output_path = os.path.join(output_dir, f\"{subj_id}_anxiety_windows.csv\")\n",
    "    create_windows(\n",
    "        anxiety_csv_path=input_path,\n",
    "        output_csv_path=output_path,\n",
    "        window_size=window_size,\n",
    "        step_size=step_size\n",
    "    )\n"
   ]
  }
 ],
 "metadata": {
  "kernelspec": {
   "display_name": "Python 3",
   "language": "python",
   "name": "python3"
  },
  "language_info": {
   "codemirror_mode": {
    "name": "ipython",
    "version": 3
   },
   "file_extension": ".py",
   "mimetype": "text/x-python",
   "name": "python",
   "nbconvert_exporter": "python",
   "pygments_lexer": "ipython3",
   "version": "3.9.6"
  }
 },
 "nbformat": 4,
 "nbformat_minor": 2
}
