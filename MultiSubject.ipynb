{
 "cells": [
  {
   "cell_type": "markdown",
   "metadata": {},
   "source": [
    "# Multi Subject FC Analysis"
   ]
  },
  {
   "cell_type": "code",
   "execution_count": 2,
   "metadata": {},
   "outputs": [
    {
     "name": "stderr",
     "output_type": "stream",
     "text": [
      "/Users/emmasombers/Library/Python/3.9/lib/python/site-packages/urllib3/__init__.py:35: NotOpenSSLWarning: urllib3 v2 only supports OpenSSL 1.1.1+, currently the 'ssl' module is compiled with 'LibreSSL 2.8.3'. See: https://github.com/urllib3/urllib3/issues/3020\n",
      "  warnings.warn(\n"
     ]
    }
   ],
   "source": [
    "# imports etc \n",
    "\n",
    "import nibabel as nib\n",
    "import numpy as np \n",
    "from nilearn.input_data import NiftiLabelsMasker\n",
    "from nilearn.connectome import ConnectivityMeasure\n",
    "from nilearn import datasets \n",
    "import json\n",
    "from fmri_analysis import *\n",
    "from network_grouping import * \n"
   ]
  },
  {
   "cell_type": "code",
   "execution_count": null,
   "metadata": {},
   "outputs": [
    {
     "name": "stdout",
     "output_type": "stream",
     "text": [
      "[get_dataset_dir] Dataset found in /Users/emmasombers/nilearn_data/schaefer_2018\n"
     ]
    },
    {
     "ename": "TypeError",
     "evalue": "string indices must be integers",
     "output_type": "error",
     "traceback": [
      "\u001b[0;31m---------------------------------------------------------------------------\u001b[0m",
      "\u001b[0;31mTypeError\u001b[0m                                 Traceback (most recent call last)",
      "Cell \u001b[0;32mIn[14], line 22\u001b[0m\n\u001b[1;32m     19\u001b[0m masker \u001b[38;5;241m=\u001b[39m NiftiLabelsMasker(labels_img\u001b[38;5;241m=\u001b[39matlas[\u001b[38;5;124m\"\u001b[39m\u001b[38;5;124mmaps\u001b[39m\u001b[38;5;124m\"\u001b[39m], standardize\u001b[38;5;241m=\u001b[39m\u001b[38;5;28;01mTrue\u001b[39;00m, t_r\u001b[38;5;241m=\u001b[39m\u001b[38;5;241m1.5\u001b[39m)\n\u001b[1;32m     21\u001b[0m \u001b[38;5;66;03m# Call the main function to run the analysis\u001b[39;00m\n\u001b[0;32m---> 22\u001b[0m \u001b[43mmain\u001b[49m\u001b[43m(\u001b[49m\u001b[43msubjects_fmri_paths\u001b[49m\u001b[43m,\u001b[49m\u001b[43m \u001b[49m\u001b[43msubjects_events\u001b[49m\u001b[43m,\u001b[49m\u001b[43m \u001b[49m\u001b[43mmasker\u001b[49m\u001b[43m)\u001b[49m\n",
      "File \u001b[0;32m~/BMENfinalproject/fmri_analysis.py:127\u001b[0m, in \u001b[0;36mmain\u001b[0;34m(subjects_fmri_paths, subjects_events, masker, low_threshold, high_threshold)\u001b[0m\n\u001b[1;32m    125\u001b[0m \u001b[38;5;66;03m# Process each subject and compute FC for anxiety groups\u001b[39;00m\n\u001b[1;32m    126\u001b[0m \u001b[38;5;28;01mfor\u001b[39;00m fmri_path, events \u001b[38;5;129;01min\u001b[39;00m \u001b[38;5;28mzip\u001b[39m(subjects_fmri_paths, subjects_events):\n\u001b[0;32m--> 127\u001b[0m     low_anx_chunks, high_anx_chunks, tr, affine \u001b[38;5;241m=\u001b[39m \u001b[43mprocess_subject\u001b[49m\u001b[43m(\u001b[49m\u001b[43mfmri_path\u001b[49m\u001b[43m,\u001b[49m\u001b[43m \u001b[49m\u001b[43mevents\u001b[49m\u001b[43m,\u001b[49m\u001b[43m \u001b[49m\u001b[43mmasker\u001b[49m\u001b[43m,\u001b[49m\u001b[43m \u001b[49m\u001b[43mlow_threshold\u001b[49m\u001b[43m,\u001b[49m\u001b[43m \u001b[49m\u001b[43mhigh_threshold\u001b[49m\u001b[43m)\u001b[49m\n\u001b[1;32m    129\u001b[0m     \u001b[38;5;66;03m# Compute FC for low and high anxiety groups for each subject\u001b[39;00m\n\u001b[1;32m    130\u001b[0m     fc_low, fc_high \u001b[38;5;241m=\u001b[39m compute_fc_for_anxiety_groups(low_anx_chunks, high_anx_chunks, tr, affine, masker)\n",
      "File \u001b[0;32m~/BMENfinalproject/fmri_analysis.py:22\u001b[0m, in \u001b[0;36mprocess_subject\u001b[0;34m(fmri_path, events, masker, low_threshold, high_threshold)\u001b[0m\n\u001b[1;32m     19\u001b[0m extracted_chunks \u001b[38;5;241m=\u001b[39m []\n\u001b[1;32m     21\u001b[0m \u001b[38;5;28;01mfor\u001b[39;00m e \u001b[38;5;129;01min\u001b[39;00m events:\n\u001b[0;32m---> 22\u001b[0m     onset \u001b[38;5;241m=\u001b[39m \u001b[43me\u001b[49m\u001b[43m[\u001b[49m\u001b[38;5;124;43m\"\u001b[39;49m\u001b[38;5;124;43monset\u001b[39;49m\u001b[38;5;124;43m\"\u001b[39;49m\u001b[43m]\u001b[49m\n\u001b[1;32m     23\u001b[0m     duration \u001b[38;5;241m=\u001b[39m e[\u001b[38;5;124m\"\u001b[39m\u001b[38;5;124mduration\u001b[39m\u001b[38;5;124m\"\u001b[39m]\n\u001b[1;32m     24\u001b[0m     anxiety \u001b[38;5;241m=\u001b[39m e[\u001b[38;5;124m\"\u001b[39m\u001b[38;5;124manxiety\u001b[39m\u001b[38;5;124m\"\u001b[39m]\n",
      "\u001b[0;31mTypeError\u001b[0m: string indices must be integers"
     ]
    }
   ],
   "source": [
    "# Load the event data\n",
    "with open(\"subject_movie_events.json\", \"r\") as f:\n",
    "    event_dict = json.load(f)\n",
    "\n",
    "# Define the list of fMRI file paths\n",
    "subjects_fmri_paths = [\"subset_fmri/sub-S01_ses-1_task-BigBuckBunny_space-MNI_desc-ppres_bold.nii.gz\", \n",
    "                       \"subset_fmri/sub-S01_ses-1_task-FirstBite_space-MNI_desc-ppres_bold.nii.gz\"]\n",
    "\n",
    "# Define the corresponding events dictionary, ensuring it matches the fMRI data\n",
    "subjects_events = {\n",
    "    \"subset_fmri/sub-S01_ses-1_task-BigBuckBunny_space-MNI_desc-ppres_bold.nii.gz\": event_dict[\"S01::BigBuckBunny\"],\n",
    "    \"subset_fmri/sub-S01_ses-1_task-FirstBite_space-MNI_desc-ppres_bold.nii.gz\": event_dict[\"S01::FirstBite\"],\n",
    "    # Add additional mappings\n",
    "}\n",
    "\n",
    "# Define the masker (Schaefer 100 ROIs or another atlas)\n",
    "atlas = datasets.fetch_atlas_schaefer_2018(n_rois=100, yeo_networks=7)\n",
    "labels = atlas[\"labels\"]\n",
    "masker = NiftiLabelsMasker(labels_img=atlas[\"maps\"], standardize=True)\n",
    "\n",
    "# Call the main function to run the analysis\n",
    "main(subjects_fmri_paths, subjects_events, masker)"
   ]
  }
 ],
 "metadata": {
  "kernelspec": {
   "display_name": "Python 3",
   "language": "python",
   "name": "python3"
  },
  "language_info": {
   "codemirror_mode": {
    "name": "ipython",
    "version": 3
   },
   "file_extension": ".py",
   "mimetype": "text/x-python",
   "name": "python",
   "nbconvert_exporter": "python",
   "pygments_lexer": "ipython3",
   "version": "3.9.6"
  }
 },
 "nbformat": 4,
 "nbformat_minor": 2
}
