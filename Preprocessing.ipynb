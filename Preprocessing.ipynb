{
 "cells": [
  {
   "cell_type": "markdown",
   "metadata": {},
   "source": [
    "# BMEN Final Project"
   ]
  },
  {
   "cell_type": "markdown",
   "metadata": {},
   "source": [
    "Install dependencies"
   ]
  },
  {
   "cell_type": "code",
   "execution_count": 2,
   "metadata": {},
   "outputs": [],
   "source": [
    "!python3 -m pip install -r requirements.txt"
   ]
  },
  {
   "cell_type": "code",
   "execution_count": 7,
   "metadata": {},
   "outputs": [
    {
     "name": "stdout",
     "output_type": "stream",
     "text": [
      "Collecting nibabel\n",
      "  Using cached nibabel-5.3.2-py3-none-any.whl.metadata (9.1 kB)\n",
      "Collecting importlib-resources>=5.12 (from nibabel)\n",
      "  Downloading importlib_resources-6.5.2-py3-none-any.whl.metadata (3.9 kB)\n",
      "Requirement already satisfied: numpy>=1.22 in /Library/Frameworks/Python.framework/Versions/3.11/lib/python3.11/site-packages (from nibabel) (2.0.2)\n",
      "Requirement already satisfied: packaging>=20 in /Users/emmasombers/Library/Python/3.11/lib/python/site-packages (from nibabel) (24.1)\n",
      "Requirement already satisfied: typing-extensions>=4.6 in /Users/emmasombers/Library/Python/3.11/lib/python/site-packages (from nibabel) (4.12.2)\n",
      "Using cached nibabel-5.3.2-py3-none-any.whl (3.3 MB)\n",
      "Downloading importlib_resources-6.5.2-py3-none-any.whl (37 kB)\n",
      "Installing collected packages: importlib-resources, nibabel\n",
      "\u001b[33m  WARNING: The scripts nib-conform, nib-convert, nib-dicomfs, nib-diff, nib-ls, nib-nifti-dx, nib-roi, nib-stats, nib-tck2trk, nib-trk2tck and parrec2nii are installed in '/Library/Frameworks/Python.framework/Versions/3.11/bin' which is not on PATH.\n",
      "  Consider adding this directory to PATH or, if you prefer to suppress this warning, use --no-warn-script-location.\u001b[0m\u001b[33m\n",
      "\u001b[0mSuccessfully installed importlib-resources-6.5.2 nibabel-5.3.2\n"
     ]
    }
   ],
   "source": [
    "!python3 -m pip install nibabel"
   ]
  },
  {
   "cell_type": "markdown",
   "metadata": {},
   "source": [
    "# Find which movies include anxiety information "
   ]
  },
  {
   "cell_type": "code",
   "execution_count": 43,
   "metadata": {},
   "outputs": [
    {
     "name": "stdout",
     "output_type": "stream",
     "text": [
      "\n",
      "Found 43 files WITH 'Anxiety' column\n",
      "Found 371 files WITHOUT 'Anxiety' column\n"
     ]
    }
   ],
   "source": [
    "import os\n",
    "import pandas as pd\n",
    "from glob import glob\n",
    "\n",
    "base_path = \"/Users/emmasombers/BMENfinalproject/ds004892\"\n",
    "event_files = glob(os.path.join(base_path, \"sub-*\", \"ses-*\", \"beh\", \"*_events.tsv\"))\n",
    "\n",
    "files_with_anxiety = []\n",
    "files_without_anxiety = []\n",
    "\n",
    "for file in event_files:\n",
    "    try:\n",
    "        df = pd.read_csv(file, sep=\"\\t\")\n",
    "        if \"Anxiety\" in df.columns:\n",
    "            files_with_anxiety.append(file)\n",
    "        else:\n",
    "            files_without_anxiety.append(file)\n",
    "    except Exception as e:\n",
    "        print(f\"Error reading {file}: {e}\")\n",
    "\n",
    "print(f\"\\nFound {len(files_with_anxiety)} files WITH 'Anxiety' column\")\n",
    "print(f\"Found {len(files_without_anxiety)} files WITHOUT 'Anxiety' column\")\n",
    "\n",
    "# Save full lists to file if you want:\n",
    "with open(\"files_with_anxiety.txt\", \"w\") as out:\n",
    "    out.write(\"\\n\".join(files_with_anxiety))"
   ]
  },
  {
   "cell_type": "markdown",
   "metadata": {},
   "source": [
    "# Extract subject, movie, anxiety, onset, duration from each anxiety file and create json with this info "
   ]
  },
  {
   "cell_type": "code",
   "execution_count": 45,
   "metadata": {},
   "outputs": [],
   "source": [
    "from collections import defaultdict\n",
    "import os\n",
    "import pandas as pd\n",
    "import json\n",
    "\n",
    "subject_movie_events = defaultdict(list)\n",
    "\n",
    "for file in files_with_anxiety:\n",
    "    try:\n",
    "        df = pd.read_csv(file, sep=\"\\t\")\n",
    "        filename = os.path.basename(file)\n",
    "\n",
    "        # Extract subject and task/movie\n",
    "        subject = filename.split(\"_\")[0].replace(\"sub-\", \"\")\n",
    "        task = [x for x in filename.split(\"_\") if \"task-\" in x][0].replace(\"task-\", \"\")\n",
    "\n",
    "        for _, row in df.iterrows():\n",
    "            if pd.notna(row.get(\"Anxiety\")):\n",
    "                subject_movie_events[(subject, task)].append({\n",
    "                    \"anxiety\": row[\"Anxiety\"],\n",
    "                    \"onset\": row[\"onset\"],\n",
    "                    \"duration\": row[\"duration\"]\n",
    "                })\n",
    "    except Exception as e:\n",
    "        print(f\"Skipping {file}: {e}\")\n",
    "\n",
    "\n",
    "# Convert tuple keys to strings to make it JSON serializable\n",
    "serializable_data = {\n",
    "    f\"{subject}::{movie}\": events\n",
    "    for (subject, movie), events in subject_movie_events.items()\n",
    "}\n",
    "\n",
    "with open(\"subject_movie_events.json\", \"w\") as f:\n",
    "    json.dump(serializable_data, f, indent=2)"
   ]
  },
  {
   "cell_type": "markdown",
   "metadata": {},
   "source": [
    "# Download the preprocessed, denoised fMRI data that matches the files with anxiety scores"
   ]
  },
  {
   "cell_type": "code",
   "execution_count": 5,
   "metadata": {},
   "outputs": [
    {
     "name": "stdout",
     "output_type": "stream",
     "text": [
      "\n",
      "🧠 fMRI files to download:\n",
      "ds004892/derivatives/preprocessing/sub-S01/ses-4/func/sub-S01_ses-4_task-Superhero_space-MNI_desc-ppres_bold.nii.gz\n",
      "ds004892/derivatives/preprocessing/sub-S01/ses-4/func/sub-S01_ses-4_task-Sintel_space-MNI_desc-ppres_bold.nii.gz\n",
      "ds004892/derivatives/preprocessing/sub-S01/ses-4/func/sub-S01_ses-4_task-TearsOfSteel_space-MNI_desc-ppres_bold.nii.gz\n",
      "ds004892/derivatives/preprocessing/sub-S01/ses-3/func/sub-S01_ses-3_task-BetweenViewings_space-MNI_desc-ppres_bold.nii.gz\n",
      "ds004892/derivatives/preprocessing/sub-S01/ses-3/func/sub-S01_ses-3_task-ToClaireFromSonny_space-MNI_desc-ppres_bold.nii.gz\n",
      "ds004892/derivatives/preprocessing/sub-S01/ses-3/func/sub-S01_ses-3_task-Chatter_space-MNI_desc-ppres_bold.nii.gz\n",
      "ds004892/derivatives/preprocessing/sub-S01/ses-3/func/sub-S01_ses-3_task-Spaceman_space-MNI_desc-ppres_bold.nii.gz\n",
      "ds004892/derivatives/preprocessing/sub-S01/ses-2/func/sub-S01_ses-2_task-AfterTheRain_space-MNI_desc-ppres_bold.nii.gz\n",
      "ds004892/derivatives/preprocessing/sub-S01/ses-2/func/sub-S01_ses-2_task-LessonLearned_space-MNI_desc-ppres_bold.nii.gz\n",
      "ds004892/derivatives/preprocessing/sub-S01/ses-2/func/sub-S01_ses-2_task-TheSecretNumber_space-MNI_desc-ppres_bold.nii.gz\n",
      "ds004892/derivatives/preprocessing/sub-S01/ses-2/func/sub-S01_ses-2_task-Payload_space-MNI_desc-ppres_bold.nii.gz\n",
      "ds004892/derivatives/preprocessing/sub-S01/ses-1/func/sub-S01_ses-1_task-BigBuckBunny_space-MNI_desc-ppres_bold.nii.gz\n",
      "ds004892/derivatives/preprocessing/sub-S01/ses-1/func/sub-S01_ses-1_task-FirstBite_space-MNI_desc-ppres_bold.nii.gz\n",
      "ds004892/derivatives/preprocessing/sub-S01/ses-1/func/sub-S01_ses-1_task-YouAgain_space-MNI_desc-ppres_bold.nii.gz\n",
      "ds004892/derivatives/preprocessing/sub-S17/ses-4/func/sub-S17_ses-4_task-ToClaireFromSonny_space-MNI_desc-ppres_bold.nii.gz\n",
      "ds004892/derivatives/preprocessing/sub-S17/ses-4/func/sub-S17_ses-4_task-Payload_space-MNI_desc-ppres_bold.nii.gz\n",
      "ds004892/derivatives/preprocessing/sub-S17/ses-4/func/sub-S17_ses-4_task-BigBuckBunny_space-MNI_desc-ppres_bold.nii.gz\n",
      "ds004892/derivatives/preprocessing/sub-S17/ses-4/func/sub-S17_ses-4_task-Sintel_space-MNI_desc-ppres_bold.nii.gz\n",
      "ds004892/derivatives/preprocessing/sub-S17/ses-3/func/sub-S17_ses-3_task-FirstBite_space-MNI_desc-ppres_bold.nii.gz\n",
      "ds004892/derivatives/preprocessing/sub-S17/ses-3/func/sub-S17_ses-3_task-BetweenViewings_space-MNI_desc-ppres_bold.nii.gz\n",
      "ds004892/derivatives/preprocessing/sub-S17/ses-3/func/sub-S17_ses-3_task-Superhero_space-MNI_desc-ppres_bold.nii.gz\n",
      "ds004892/derivatives/preprocessing/sub-S17/ses-3/func/sub-S17_ses-3_task-AfterTheRain_space-MNI_desc-ppres_bold.nii.gz\n",
      "ds004892/derivatives/preprocessing/sub-S17/ses-2/func/sub-S17_ses-2_task-TheSecretNumber_space-MNI_desc-ppres_bold.nii.gz\n",
      "ds004892/derivatives/preprocessing/sub-S17/ses-2/func/sub-S17_ses-2_task-AfterTheRain_space-MNI_desc-ppres_bold.nii.gz\n",
      "ds004892/derivatives/preprocessing/sub-S17/ses-2/func/sub-S17_ses-2_task-TearsOfSteel_space-MNI_desc-ppres_bold.nii.gz\n",
      "ds004892/derivatives/preprocessing/sub-S17/ses-2/func/sub-S17_ses-2_task-LessonLearned_space-MNI_desc-ppres_bold.nii.gz\n",
      "ds004892/derivatives/preprocessing/sub-S17/ses-1/func/sub-S17_ses-1_task-YouAgain_space-MNI_desc-ppres_bold.nii.gz\n",
      "ds004892/derivatives/preprocessing/sub-S17/ses-1/func/sub-S17_ses-1_task-Spaceman_space-MNI_desc-ppres_bold.nii.gz\n",
      "ds004892/derivatives/preprocessing/sub-S17/ses-1/func/sub-S17_ses-1_task-Chatter_space-MNI_desc-ppres_bold.nii.gz\n",
      "ds004892/derivatives/preprocessing/sub-S26/ses-4/func/sub-S26_ses-4_task-YouAgain_space-MNI_desc-ppres_bold.nii.gz\n",
      "ds004892/derivatives/preprocessing/sub-S26/ses-4/func/sub-S26_ses-4_task-ToClaireFromSonny_space-MNI_desc-ppres_bold.nii.gz\n",
      "ds004892/derivatives/preprocessing/sub-S26/ses-4/func/sub-S26_ses-4_task-Chatter_space-MNI_desc-ppres_bold.nii.gz\n",
      "ds004892/derivatives/preprocessing/sub-S26/ses-4/func/sub-S26_ses-4_task-Payload_space-MNI_desc-ppres_bold.nii.gz\n",
      "ds004892/derivatives/preprocessing/sub-S26/ses-3/func/sub-S26_ses-3_task-FirstBite_space-MNI_desc-ppres_bold.nii.gz\n",
      "ds004892/derivatives/preprocessing/sub-S26/ses-3/func/sub-S26_ses-3_task-TearsOfSteel_space-MNI_desc-ppres_bold.nii.gz\n",
      "ds004892/derivatives/preprocessing/sub-S26/ses-3/func/sub-S26_ses-3_task-Sintel_space-MNI_desc-ppres_bold.nii.gz\n",
      "ds004892/derivatives/preprocessing/sub-S26/ses-3/func/sub-S26_ses-3_task-TheSecretNumber_space-MNI_desc-ppres_bold.nii.gz\n",
      "ds004892/derivatives/preprocessing/sub-S26/ses-2/func/sub-S26_ses-2_task-AfterTheRain_space-MNI_desc-ppres_bold.nii.gz\n",
      "ds004892/derivatives/preprocessing/sub-S26/ses-2/func/sub-S26_ses-2_task-LessonLearned_space-MNI_desc-ppres_bold.nii.gz\n",
      "ds004892/derivatives/preprocessing/sub-S26/ses-2/func/sub-S26_ses-2_task-BigBuckBunny_space-MNI_desc-ppres_bold.nii.gz\n",
      "ds004892/derivatives/preprocessing/sub-S26/ses-2/func/sub-S26_ses-2_task-Superhero_space-MNI_desc-ppres_bold.nii.gz\n",
      "ds004892/derivatives/preprocessing/sub-S26/ses-1/func/sub-S26_ses-1_task-BetweenViewings_space-MNI_desc-ppres_bold.nii.gz\n",
      "ds004892/derivatives/preprocessing/sub-S26/ses-1/func/sub-S26_ses-1_task-Spaceman_space-MNI_desc-ppres_bold.nii.gz\n"
     ]
    }
   ],
   "source": [
    "# Create a list of paths of the fMRI files we need to download \n",
    "import os \n",
    "fmri_paths = []\n",
    "\n",
    "with open(\"files_with_anxiety.txt\", \"r\") as f:\n",
    "    for line in f:\n",
    "        line = line.strip()\n",
    "        if line == \"\":\n",
    "            continue\n",
    "\n",
    "        # Extract parts from the path\n",
    "        parts = line.split(\"/\")\n",
    "        sub = next(p for p in parts if p.startswith(\"sub-\"))\n",
    "        ses = next(p for p in parts if p.startswith(\"ses-\"))\n",
    "        fname = os.path.basename(line)\n",
    "\n",
    "        # Extract task name\n",
    "        task = [x for x in fname.split(\"_\") if \"task-\" in x][0].replace(\"task-\", \"\")\n",
    "\n",
    "        # Build corresponding fMRI filename\n",
    "        fmri_path = f\"ds004892/derivatives/preprocessing/{sub}/{ses}/func/{sub}_{ses}_task-{task}_space-MNI_desc-ppres_bold.nii.gz\"\n",
    "        fmri_paths.append(fmri_path)\n",
    "\n",
    "# Print or write to a file\n",
    "print(\"\\nfMRI files to download:\")\n",
    "for path in fmri_paths:\n",
    "    print(path)\n",
    "\n",
    "# write to shell script for datalad\n",
    "with open(\"get_fmri_files.sh\", \"w\") as f:\n",
    "    for path in fmri_paths:\n",
    "        f.write(f\"datalad get {path}\\n\")"
   ]
  },
  {
   "cell_type": "markdown",
   "metadata": {},
   "source": [
    "# Create new folder only with the relevant fMRI files "
   ]
  },
  {
   "cell_type": "code",
   "execution_count": null,
   "metadata": {},
   "outputs": [
    {
     "name": "stdout",
     "output_type": "stream",
     "text": [
      "⚠️ Skipped (not found): ds004892/derivatives/preprocessing/sub-S01/ses-4/func/sub-S01_ses-4_task-Superhero_space-MNI_desc-ppres_bold.nii.gz\n",
      "1\n",
      "⚠️ Skipped (not found): ds004892/derivatives/preprocessing/sub-S01/ses-4/func/sub-S01_ses-4_task-Sintel_space-MNI_desc-ppres_bold.nii.gz\n",
      "2\n",
      "⚠️ Skipped (not found): ds004892/derivatives/preprocessing/sub-S01/ses-4/func/sub-S01_ses-4_task-TearsOfSteel_space-MNI_desc-ppres_bold.nii.gz\n",
      "3\n",
      "⚠️ Skipped (not found): ds004892/derivatives/preprocessing/sub-S01/ses-3/func/sub-S01_ses-3_task-BetweenViewings_space-MNI_desc-ppres_bold.nii.gz\n",
      "4\n",
      "⚠️ Skipped (not found): ds004892/derivatives/preprocessing/sub-S01/ses-3/func/sub-S01_ses-3_task-ToClaireFromSonny_space-MNI_desc-ppres_bold.nii.gz\n",
      "5\n",
      "⚠️ Skipped (not found): ds004892/derivatives/preprocessing/sub-S01/ses-3/func/sub-S01_ses-3_task-Chatter_space-MNI_desc-ppres_bold.nii.gz\n",
      "6\n",
      "⚠️ Skipped (not found): ds004892/derivatives/preprocessing/sub-S01/ses-3/func/sub-S01_ses-3_task-Spaceman_space-MNI_desc-ppres_bold.nii.gz\n",
      "7\n",
      "⚠️ Skipped (not found): ds004892/derivatives/preprocessing/sub-S01/ses-2/func/sub-S01_ses-2_task-AfterTheRain_space-MNI_desc-ppres_bold.nii.gz\n",
      "8\n",
      "⚠️ Skipped (not found): ds004892/derivatives/preprocessing/sub-S01/ses-2/func/sub-S01_ses-2_task-LessonLearned_space-MNI_desc-ppres_bold.nii.gz\n",
      "9\n",
      "⚠️ Skipped (not found): ds004892/derivatives/preprocessing/sub-S01/ses-2/func/sub-S01_ses-2_task-TheSecretNumber_space-MNI_desc-ppres_bold.nii.gz\n",
      "10\n",
      "⚠️ Skipped (not found): ds004892/derivatives/preprocessing/sub-S01/ses-2/func/sub-S01_ses-2_task-Payload_space-MNI_desc-ppres_bold.nii.gz\n",
      "11\n",
      "⚠️ Skipped (not found): ds004892/derivatives/preprocessing/sub-S01/ses-1/func/sub-S01_ses-1_task-BigBuckBunny_space-MNI_desc-ppres_bold.nii.gz\n",
      "12\n",
      "⚠️ Skipped (not found): ds004892/derivatives/preprocessing/sub-S01/ses-1/func/sub-S01_ses-1_task-FirstBite_space-MNI_desc-ppres_bold.nii.gz\n",
      "13\n",
      "⚠️ Skipped (not found): ds004892/derivatives/preprocessing/sub-S01/ses-1/func/sub-S01_ses-1_task-YouAgain_space-MNI_desc-ppres_bold.nii.gz\n",
      "14\n",
      "⚠️ Skipped (not found): ds004892/derivatives/preprocessing/sub-S17/ses-4/func/sub-S17_ses-4_task-ToClaireFromSonny_space-MNI_desc-ppres_bold.nii.gz\n",
      "15\n",
      "⚠️ Skipped (not found): ds004892/derivatives/preprocessing/sub-S17/ses-4/func/sub-S17_ses-4_task-Payload_space-MNI_desc-ppres_bold.nii.gz\n",
      "16\n",
      "⚠️ Skipped (not found): ds004892/derivatives/preprocessing/sub-S17/ses-4/func/sub-S17_ses-4_task-BigBuckBunny_space-MNI_desc-ppres_bold.nii.gz\n",
      "17\n",
      "⚠️ Skipped (not found): ds004892/derivatives/preprocessing/sub-S17/ses-4/func/sub-S17_ses-4_task-Sintel_space-MNI_desc-ppres_bold.nii.gz\n",
      "18\n",
      "⚠️ Skipped (not found): ds004892/derivatives/preprocessing/sub-S17/ses-3/func/sub-S17_ses-3_task-FirstBite_space-MNI_desc-ppres_bold.nii.gz\n",
      "19\n",
      "⚠️ Skipped (not found): ds004892/derivatives/preprocessing/sub-S17/ses-3/func/sub-S17_ses-3_task-BetweenViewings_space-MNI_desc-ppres_bold.nii.gz\n",
      "20\n",
      "⚠️ Skipped (not found): ds004892/derivatives/preprocessing/sub-S17/ses-3/func/sub-S17_ses-3_task-Superhero_space-MNI_desc-ppres_bold.nii.gz\n",
      "21\n",
      "⚠️ Skipped (not found): ds004892/derivatives/preprocessing/sub-S17/ses-3/func/sub-S17_ses-3_task-AfterTheRain_space-MNI_desc-ppres_bold.nii.gz\n",
      "22\n",
      "✅ Moved: ds004892/derivatives/preprocessing/sub-S17/ses-2/func/sub-S17_ses-2_task-TheSecretNumber_space-MNI_desc-ppres_bold.nii.gz\n",
      "23\n",
      "✅ Moved: ds004892/derivatives/preprocessing/sub-S17/ses-2/func/sub-S17_ses-2_task-AfterTheRain_space-MNI_desc-ppres_bold.nii.gz\n",
      "24\n",
      "✅ Moved: ds004892/derivatives/preprocessing/sub-S17/ses-2/func/sub-S17_ses-2_task-TearsOfSteel_space-MNI_desc-ppres_bold.nii.gz\n",
      "25\n",
      "✅ Moved: ds004892/derivatives/preprocessing/sub-S17/ses-2/func/sub-S17_ses-2_task-LessonLearned_space-MNI_desc-ppres_bold.nii.gz\n",
      "26\n",
      "✅ Moved: ds004892/derivatives/preprocessing/sub-S17/ses-1/func/sub-S17_ses-1_task-YouAgain_space-MNI_desc-ppres_bold.nii.gz\n",
      "27\n",
      "✅ Moved: ds004892/derivatives/preprocessing/sub-S17/ses-1/func/sub-S17_ses-1_task-Spaceman_space-MNI_desc-ppres_bold.nii.gz\n",
      "28\n",
      "✅ Moved: ds004892/derivatives/preprocessing/sub-S17/ses-1/func/sub-S17_ses-1_task-Chatter_space-MNI_desc-ppres_bold.nii.gz\n",
      "29\n",
      "✅ Moved: ds004892/derivatives/preprocessing/sub-S26/ses-4/func/sub-S26_ses-4_task-YouAgain_space-MNI_desc-ppres_bold.nii.gz\n",
      "30\n",
      "✅ Moved: ds004892/derivatives/preprocessing/sub-S26/ses-4/func/sub-S26_ses-4_task-ToClaireFromSonny_space-MNI_desc-ppres_bold.nii.gz\n",
      "31\n",
      "✅ Moved: ds004892/derivatives/preprocessing/sub-S26/ses-4/func/sub-S26_ses-4_task-Chatter_space-MNI_desc-ppres_bold.nii.gz\n",
      "32\n",
      "✅ Moved: ds004892/derivatives/preprocessing/sub-S26/ses-4/func/sub-S26_ses-4_task-Payload_space-MNI_desc-ppres_bold.nii.gz\n",
      "33\n",
      "✅ Moved: ds004892/derivatives/preprocessing/sub-S26/ses-3/func/sub-S26_ses-3_task-FirstBite_space-MNI_desc-ppres_bold.nii.gz\n",
      "34\n",
      "✅ Moved: ds004892/derivatives/preprocessing/sub-S26/ses-3/func/sub-S26_ses-3_task-TearsOfSteel_space-MNI_desc-ppres_bold.nii.gz\n",
      "35\n",
      "✅ Moved: ds004892/derivatives/preprocessing/sub-S26/ses-3/func/sub-S26_ses-3_task-Sintel_space-MNI_desc-ppres_bold.nii.gz\n",
      "36\n",
      "✅ Moved: ds004892/derivatives/preprocessing/sub-S26/ses-3/func/sub-S26_ses-3_task-TheSecretNumber_space-MNI_desc-ppres_bold.nii.gz\n",
      "37\n",
      "✅ Moved: ds004892/derivatives/preprocessing/sub-S26/ses-2/func/sub-S26_ses-2_task-AfterTheRain_space-MNI_desc-ppres_bold.nii.gz\n",
      "38\n",
      "✅ Moved: ds004892/derivatives/preprocessing/sub-S26/ses-2/func/sub-S26_ses-2_task-LessonLearned_space-MNI_desc-ppres_bold.nii.gz\n",
      "39\n",
      "✅ Moved: ds004892/derivatives/preprocessing/sub-S26/ses-2/func/sub-S26_ses-2_task-BigBuckBunny_space-MNI_desc-ppres_bold.nii.gz\n",
      "40\n",
      "✅ Moved: ds004892/derivatives/preprocessing/sub-S26/ses-2/func/sub-S26_ses-2_task-Superhero_space-MNI_desc-ppres_bold.nii.gz\n",
      "41\n",
      "✅ Moved: ds004892/derivatives/preprocessing/sub-S26/ses-1/func/sub-S26_ses-1_task-BetweenViewings_space-MNI_desc-ppres_bold.nii.gz\n",
      "42\n",
      "✅ Moved: ds004892/derivatives/preprocessing/sub-S26/ses-1/func/sub-S26_ses-1_task-Spaceman_space-MNI_desc-ppres_bold.nii.gz\n",
      "43\n"
     ]
    }
   ],
   "source": [
    "import os\n",
    "import shutil\n",
    "\n",
    "count = 0 \n",
    "\n",
    "# Load paths from your shell script\n",
    "with open(\"get_fmri_files.sh\", \"r\") as f:\n",
    "    fmri_paths = [line.strip().split(\"datalad get \")[-1] for line in f if line.startswith(\"datalad get\")]\n",
    "\n",
    "# Destination directory\n",
    "subset_dir = \"subset_fmri\"\n",
    "os.makedirs(subset_dir, exist_ok=True)\n",
    "\n",
    "# Move files \n",
    "for path in fmri_paths:\n",
    "    if os.path.exists(path):\n",
    "        dest = os.path.join(subset_dir, os.path.basename(path))\n",
    "        shutil.move(path, dest)\n",
    "        print(f\"✅ Moved: {path}\")\n",
    "    else:\n",
    "        print(f\"⚠️ Skipped (not found): {path}\")\n",
    "    count +=1\n",
    "    print(count)\n",
    "    "
   ]
  }
 ],
 "metadata": {
  "kernelspec": {
   "display_name": "Python 3",
   "language": "python",
   "name": "python3"
  },
  "language_info": {
   "codemirror_mode": {
    "name": "ipython",
    "version": 3
   },
   "file_extension": ".py",
   "mimetype": "text/x-python",
   "name": "python",
   "nbconvert_exporter": "python",
   "pygments_lexer": "ipython3",
   "version": "3.11.5"
  }
 },
 "nbformat": 4,
 "nbformat_minor": 2
}
